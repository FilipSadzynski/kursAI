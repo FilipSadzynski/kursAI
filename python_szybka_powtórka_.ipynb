{
  "nbformat": 4,
  "nbformat_minor": 0,
  "metadata": {
    "colab": {
      "provenance": [],
      "authorship_tag": "ABX9TyM09O/+x9ZkQm+7GUuXlNOj",
      "include_colab_link": true
    },
    "kernelspec": {
      "name": "python3",
      "display_name": "Python 3"
    },
    "language_info": {
      "name": "python"
    }
  },
  "cells": [
    {
      "cell_type": "markdown",
      "metadata": {
        "id": "view-in-github",
        "colab_type": "text"
      },
      "source": [
        "<a href=\"https://colab.research.google.com/github/FilipSadzynski/kursAI/blob/main/python_szybka_powt%C3%B3rka_.ipynb\" target=\"_parent\"><img src=\"https://colab.research.google.com/assets/colab-badge.svg\" alt=\"Open In Colab\"/></a>"
      ]
    },
    {
      "cell_type": "code",
      "execution_count": 12,
      "metadata": {
        "colab": {
          "base_uri": "https://localhost:8080/"
        },
        "collapsed": true,
        "id": "JZ_wSTib_x4w",
        "outputId": "60cb3faf-bfe6-42dd-9251-69ba7b0883b8"
      },
      "outputs": [
        {
          "output_type": "stream",
          "name": "stdout",
          "text": [
            "liczba: 6\n",
            "zmiennoprzecinkowa: 8.9\n",
            "napis: Tekst\n",
            "logiczna: False\n",
            "['fortnite', 'minecraft', 'roblox']\n",
            "pierwszyy element listy gry fortnite\n",
            "pierwszyy element listy gry fortnite\n",
            "Pętla for licząca do 5\n",
            "0\n",
            "1\n",
            "2\n",
            "3\n",
            "4\n",
            "5\n",
            "Pętla for licząca od 5 do 10\n",
            "5\n",
            "6\n",
            "7\n",
            "8\n",
            "9\n",
            "10\n",
            "Pętla for licząca do 10 tylko liczbami parzystymi\n",
            "0\n",
            "2\n",
            "4\n",
            "6\n",
            "8\n",
            "10\n",
            "jeden\n",
            "Klucze słownika\n",
            "1\n",
            "2\n",
            "3\n",
            "Wartości słownika\n",
            "jeden\n",
            "dwa\n",
            "trzy\n",
            "Krotka\n",
            "1\n",
            "a\n",
            "3\n",
            "1\n"
          ]
        }
      ],
      "source": [
        "#zmienne\n",
        "liczba = 6\n",
        "zmiennoprzecinkowa = 8.9\n",
        "napis = \"Tekst\"\n",
        "logiczna = False\n",
        "\n",
        "print(\"liczba: \" + str(liczba))\n",
        "print(\"zmiennoprzecinkowa: \" + str(zmiennoprzecinkowa))\n",
        "print(\"napis: \" + napis)\n",
        "print(\"logiczna: \" + str(logiczna))\n",
        "\n",
        "#listy\n",
        "#tworzenie listy\n",
        "gry = ['fortnite', 'minecraft', 'roblox']\n",
        "#wyświetlamy listy\n",
        "print(gry)\n",
        "#odwołanie do pierwszego elementu listy\n",
        "print(\"pierwszyy element listy gry \"+ str(gry[0]))\n",
        "print(f\"pierwszyy element listy gry {gry[0]}\")\n",
        "\n",
        "#pętle\n",
        "print(\"Pętla for licząca do 5\")\n",
        "for licznik in range(6):\n",
        "  print(licznik)\n",
        "print(\"Pętla for licząca od 5 do 10\")\n",
        "for licznik in range(5,11):\n",
        "  print(licznik)\n",
        "print(\"Pętla for licząca do 10 tylko liczbami parzystymi\")\n",
        "for licznik in range(0,11,2):\n",
        "  print(licznik)\n",
        "\n",
        "#słowniki\n",
        "slownik = {1 : 'jeden',\n",
        "2: 'dwa',\n",
        "3: 'trzy'}\n",
        "\n",
        "print(slownik[1])\n",
        "print(\"Klucze słownika\")\n",
        "for key in slownik.keys():\n",
        "  print(key)\n",
        "print(\"Wartości słownika\")\n",
        "for value in slownik.values():\n",
        "  print(value)\n",
        "print(\"Krotka\")\n",
        "krotka = (1,'a',3)\n",
        "for i in krotka:\n",
        "  print(i)"
      ]
    }
  ]
}